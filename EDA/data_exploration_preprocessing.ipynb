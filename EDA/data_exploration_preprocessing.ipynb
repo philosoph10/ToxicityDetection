{
 "cells": [
  {
   "cell_type": "markdown",
   "metadata": {
    "id": "njZEce6xXu_a"
   },
   "source": [
    "# Importing the Necessary Libraries"
   ]
  },
  {
   "cell_type": "code",
   "execution_count": 3,
   "metadata": {
    "id": "nHxzx6om-3Df"
   },
   "outputs": [],
   "source": [
    "import pandas as pd\n",
    "import matplotlib.pyplot as plt\n",
    "import numpy as np\n",
    "import re\n",
    "import nltk"
   ]
  },
  {
   "cell_type": "code",
   "execution_count": 4,
   "metadata": {
    "id": "ZNjkqXTt1AxC"
   },
   "outputs": [],
   "source": [
    "from nltk.corpus import stopwords"
   ]
  },
  {
   "cell_type": "code",
   "execution_count": 5,
   "metadata": {
    "id": "cU7MJSL3mruk"
   },
   "outputs": [],
   "source": [
    "from sklearn.feature_extraction.text import TfidfVectorizer"
   ]
  },
  {
   "cell_type": "markdown",
   "metadata": {
    "id": "v-MUVbXtsq68"
   },
   "source": [
    "# Number of Samples in Train and Test Datasets"
   ]
  },
  {
   "cell_type": "code",
   "execution_count": 9,
   "metadata": {
    "id": "HsXY9oln-zVA"
   },
   "outputs": [],
   "source": [
    "df_train = pd.read_csv('../data/train.csv')\n",
    "df_test = pd.read_csv('../data/test.csv')"
   ]
  },
  {
   "cell_type": "code",
   "execution_count": 10,
   "metadata": {
    "colab": {
     "base_uri": "https://localhost:8080/"
    },
    "executionInfo": {
     "elapsed": 75,
     "status": "ok",
     "timestamp": 1700482942915,
     "user": {
      "displayName": "Bohdan-Yarema Dekhtiar",
      "userId": "04520781845701333519"
     },
     "user_tz": -120
    },
    "id": "qpTHGAk9_jx-",
    "outputId": "ab843762-99da-4657-9f2e-c5352cd44777"
   },
   "outputs": [
    {
     "data": {
      "text/html": [
       "<div>\n",
       "<style scoped>\n",
       "    .dataframe tbody tr th:only-of-type {\n",
       "        vertical-align: middle;\n",
       "    }\n",
       "\n",
       "    .dataframe tbody tr th {\n",
       "        vertical-align: top;\n",
       "    }\n",
       "\n",
       "    .dataframe thead th {\n",
       "        text-align: right;\n",
       "    }\n",
       "</style>\n",
       "<table border=\"1\" class=\"dataframe\">\n",
       "  <thead>\n",
       "    <tr style=\"text-align: right;\">\n",
       "      <th></th>\n",
       "      <th>id</th>\n",
       "      <th>comment_text</th>\n",
       "      <th>toxic</th>\n",
       "      <th>severe_toxic</th>\n",
       "      <th>obscene</th>\n",
       "      <th>threat</th>\n",
       "      <th>insult</th>\n",
       "      <th>identity_hate</th>\n",
       "    </tr>\n",
       "  </thead>\n",
       "  <tbody>\n",
       "    <tr>\n",
       "      <th>0</th>\n",
       "      <td>0000997932d777bf</td>\n",
       "      <td>Explanation\\r\\nWhy the edits made under my use...</td>\n",
       "      <td>0</td>\n",
       "      <td>0</td>\n",
       "      <td>0</td>\n",
       "      <td>0</td>\n",
       "      <td>0</td>\n",
       "      <td>0</td>\n",
       "    </tr>\n",
       "    <tr>\n",
       "      <th>1</th>\n",
       "      <td>000103f0d9cfb60f</td>\n",
       "      <td>D'aww! He matches this background colour I'm s...</td>\n",
       "      <td>0</td>\n",
       "      <td>0</td>\n",
       "      <td>0</td>\n",
       "      <td>0</td>\n",
       "      <td>0</td>\n",
       "      <td>0</td>\n",
       "    </tr>\n",
       "    <tr>\n",
       "      <th>2</th>\n",
       "      <td>000113f07ec002fd</td>\n",
       "      <td>Hey man, I'm really not trying to edit war. It...</td>\n",
       "      <td>0</td>\n",
       "      <td>0</td>\n",
       "      <td>0</td>\n",
       "      <td>0</td>\n",
       "      <td>0</td>\n",
       "      <td>0</td>\n",
       "    </tr>\n",
       "    <tr>\n",
       "      <th>3</th>\n",
       "      <td>0001b41b1c6bb37e</td>\n",
       "      <td>\"\\r\\nMore\\r\\nI can't make any real suggestions...</td>\n",
       "      <td>0</td>\n",
       "      <td>0</td>\n",
       "      <td>0</td>\n",
       "      <td>0</td>\n",
       "      <td>0</td>\n",
       "      <td>0</td>\n",
       "    </tr>\n",
       "    <tr>\n",
       "      <th>4</th>\n",
       "      <td>0001d958c54c6e35</td>\n",
       "      <td>You, sir, are my hero. Any chance you remember...</td>\n",
       "      <td>0</td>\n",
       "      <td>0</td>\n",
       "      <td>0</td>\n",
       "      <td>0</td>\n",
       "      <td>0</td>\n",
       "      <td>0</td>\n",
       "    </tr>\n",
       "  </tbody>\n",
       "</table>\n",
       "</div>"
      ],
      "text/plain": [
       "                 id                                       comment_text  toxic  \\\n",
       "0  0000997932d777bf  Explanation\\r\\nWhy the edits made under my use...      0   \n",
       "1  000103f0d9cfb60f  D'aww! He matches this background colour I'm s...      0   \n",
       "2  000113f07ec002fd  Hey man, I'm really not trying to edit war. It...      0   \n",
       "3  0001b41b1c6bb37e  \"\\r\\nMore\\r\\nI can't make any real suggestions...      0   \n",
       "4  0001d958c54c6e35  You, sir, are my hero. Any chance you remember...      0   \n",
       "\n",
       "   severe_toxic  obscene  threat  insult  identity_hate  \n",
       "0             0        0       0       0              0  \n",
       "1             0        0       0       0              0  \n",
       "2             0        0       0       0              0  \n",
       "3             0        0       0       0              0  \n",
       "4             0        0       0       0              0  "
      ]
     },
     "execution_count": 10,
     "metadata": {},
     "output_type": "execute_result"
    }
   ],
   "source": [
    "df_train.head()"
   ]
  },
  {
   "cell_type": "code",
   "execution_count": 11,
   "metadata": {
    "colab": {
     "base_uri": "https://localhost:8080/"
    },
    "executionInfo": {
     "elapsed": 31,
     "status": "ok",
     "timestamp": 1700482942917,
     "user": {
      "displayName": "Bohdan-Yarema Dekhtiar",
      "userId": "04520781845701333519"
     },
     "user_tz": -120
    },
    "id": "P3cO_vHe_mEv",
    "outputId": "26063dd3-f0cf-41ca-e20e-d1d04f117d90"
   },
   "outputs": [
    {
     "data": {
      "text/html": [
       "<div>\n",
       "<style scoped>\n",
       "    .dataframe tbody tr th:only-of-type {\n",
       "        vertical-align: middle;\n",
       "    }\n",
       "\n",
       "    .dataframe tbody tr th {\n",
       "        vertical-align: top;\n",
       "    }\n",
       "\n",
       "    .dataframe thead th {\n",
       "        text-align: right;\n",
       "    }\n",
       "</style>\n",
       "<table border=\"1\" class=\"dataframe\">\n",
       "  <thead>\n",
       "    <tr style=\"text-align: right;\">\n",
       "      <th></th>\n",
       "      <th>Unnamed: 0</th>\n",
       "      <th>id</th>\n",
       "      <th>comment_text</th>\n",
       "    </tr>\n",
       "  </thead>\n",
       "  <tbody>\n",
       "    <tr>\n",
       "      <th>0</th>\n",
       "      <td>5</td>\n",
       "      <td>0001ea8717f6de06</td>\n",
       "      <td>Thank you for understanding. I think very high...</td>\n",
       "    </tr>\n",
       "    <tr>\n",
       "      <th>1</th>\n",
       "      <td>7</td>\n",
       "      <td>000247e83dcc1211</td>\n",
       "      <td>:Dear god this site is horrible.</td>\n",
       "    </tr>\n",
       "    <tr>\n",
       "      <th>2</th>\n",
       "      <td>11</td>\n",
       "      <td>0002f87b16116a7f</td>\n",
       "      <td>\"::: Somebody will invariably try to add Relig...</td>\n",
       "    </tr>\n",
       "    <tr>\n",
       "      <th>3</th>\n",
       "      <td>13</td>\n",
       "      <td>0003e1cccfd5a40a</td>\n",
       "      <td>\" \\n\\n It says it right there that it IS a typ...</td>\n",
       "    </tr>\n",
       "    <tr>\n",
       "      <th>4</th>\n",
       "      <td>14</td>\n",
       "      <td>00059ace3e3e9a53</td>\n",
       "      <td>\" \\n\\n == Before adding a new product to the l...</td>\n",
       "    </tr>\n",
       "  </tbody>\n",
       "</table>\n",
       "</div>"
      ],
      "text/plain": [
       "   Unnamed: 0                id  \\\n",
       "0           5  0001ea8717f6de06   \n",
       "1           7  000247e83dcc1211   \n",
       "2          11  0002f87b16116a7f   \n",
       "3          13  0003e1cccfd5a40a   \n",
       "4          14  00059ace3e3e9a53   \n",
       "\n",
       "                                        comment_text  \n",
       "0  Thank you for understanding. I think very high...  \n",
       "1                   :Dear god this site is horrible.  \n",
       "2  \"::: Somebody will invariably try to add Relig...  \n",
       "3  \" \\n\\n It says it right there that it IS a typ...  \n",
       "4  \" \\n\\n == Before adding a new product to the l...  "
      ]
     },
     "execution_count": 11,
     "metadata": {},
     "output_type": "execute_result"
    }
   ],
   "source": [
    "df_test.head()"
   ]
  },
  {
   "cell_type": "code",
   "execution_count": 12,
   "metadata": {
    "colab": {
     "base_uri": "https://localhost:8080/"
    },
    "executionInfo": {
     "elapsed": 28,
     "status": "ok",
     "timestamp": 1700482942918,
     "user": {
      "displayName": "Bohdan-Yarema Dekhtiar",
      "userId": "04520781845701333519"
     },
     "user_tz": -120
    },
    "id": "bKyzP6ke_oQW",
    "outputId": "1b6f98e5-6d58-476e-b989-8058599fa93e"
   },
   "outputs": [
    {
     "name": "stdout",
     "output_type": "stream",
     "text": [
      "<class 'pandas.core.frame.DataFrame'>\n",
      "RangeIndex: 159571 entries, 0 to 159570\n",
      "Data columns (total 8 columns):\n",
      " #   Column         Non-Null Count   Dtype \n",
      "---  ------         --------------   ----- \n",
      " 0   id             159571 non-null  object\n",
      " 1   comment_text   159571 non-null  object\n",
      " 2   toxic          159571 non-null  int64 \n",
      " 3   severe_toxic   159571 non-null  int64 \n",
      " 4   obscene        159571 non-null  int64 \n",
      " 5   threat         159571 non-null  int64 \n",
      " 6   insult         159571 non-null  int64 \n",
      " 7   identity_hate  159571 non-null  int64 \n",
      "dtypes: int64(6), object(2)\n",
      "memory usage: 9.7+ MB\n"
     ]
    }
   ],
   "source": [
    "df_train.info()"
   ]
  },
  {
   "cell_type": "markdown",
   "metadata": {
    "id": "QjAzWXYnYORc"
   },
   "source": [
    "Here we see that train dataset contains **159571** samples."
   ]
  },
  {
   "cell_type": "code",
   "execution_count": 13,
   "metadata": {
    "colab": {
     "base_uri": "https://localhost:8080/"
    },
    "executionInfo": {
     "elapsed": 422,
     "status": "ok",
     "timestamp": 1700482943318,
     "user": {
      "displayName": "Bohdan-Yarema Dekhtiar",
      "userId": "04520781845701333519"
     },
     "user_tz": -120
    },
    "id": "xLV2-qZg_s87",
    "outputId": "b1bfaca5-afd3-4f56-ea24-775b92c39bba"
   },
   "outputs": [
    {
     "name": "stdout",
     "output_type": "stream",
     "text": [
      "<class 'pandas.core.frame.DataFrame'>\n",
      "RangeIndex: 63978 entries, 0 to 63977\n",
      "Data columns (total 3 columns):\n",
      " #   Column        Non-Null Count  Dtype \n",
      "---  ------        --------------  ----- \n",
      " 0   Unnamed: 0    63978 non-null  int64 \n",
      " 1   id            63978 non-null  object\n",
      " 2   comment_text  63978 non-null  object\n",
      "dtypes: int64(1), object(2)\n",
      "memory usage: 1.5+ MB\n"
     ]
    }
   ],
   "source": [
    "df_test.info()"
   ]
  },
  {
   "cell_type": "markdown",
   "metadata": {
    "id": "7X0Kv2z0YXaE"
   },
   "source": [
    "The test dataset contains **63978** samples."
   ]
  },
  {
   "cell_type": "code",
   "execution_count": 16,
   "metadata": {},
   "outputs": [
    {
     "name": "stdout",
     "output_type": "stream",
     "text": [
      "Fraction of toxic messages: 9.58%\n",
      "Fraction of severe_toxic messages: 1.0%\n",
      "Fraction of obscene messages: 5.29%\n",
      "Fraction of threat messages: 0.3%\n",
      "Fraction of insult messages: 4.94%\n",
      "Fraction of identity_hate messages: 0.88%\n"
     ]
    }
   ],
   "source": [
    "cols = ['toxic',  'severe_toxic',  'obscene',  'threat',  'insult',  'identity_hate']\n",
    "for col in cols:\n",
    "  print(f\"Fraction of {col} messages: {round(df_train[col].sum() / df_train.shape[0] * 100, 2)}%\")"
   ]
  },
  {
   "cell_type": "markdown",
   "metadata": {},
   "source": [
    "We see that some of the labels appear very rarely in our dataset."
   ]
  },
  {
   "cell_type": "markdown",
   "metadata": {
    "id": "XETSnbFIs7PS"
   },
   "source": [
    "# Sample Stats"
   ]
  },
  {
   "cell_type": "markdown",
   "metadata": {
    "id": "JxOsBojgB5XY"
   },
   "source": [
    "Next we define some utility functions for viewing the dataset statistics."
   ]
  },
  {
   "cell_type": "code",
   "execution_count": 17,
   "metadata": {
    "id": "CFH_ooLEesm4"
   },
   "outputs": [],
   "source": [
    "def show_percentiles(df, col, name):\n",
    "  # Calculating the counts that cover 100%, 90%, 80%, ..., 10% of the rows\n",
    "  percentiles = list(range(100, 0, -10))\n",
    "  counts_percentiles = np.percentile(df[col], percentiles)\n",
    "\n",
    "  # Displaying the counts at each percentile\n",
    "  for percentile, count in zip(percentiles, counts_percentiles):\n",
    "      print(f\"{percentile}% of the rows have at most {int(count)} {name}s.\")"
   ]
  },
  {
   "cell_type": "code",
   "execution_count": 18,
   "metadata": {
    "id": "0wx00N3rffED"
   },
   "outputs": [],
   "source": [
    "def plot_hist(col, name, range=100):\n",
    "  # Creating a histogram of counts for df_train\n",
    "  plt.hist(df_train[col], bins=50, range=(0, range), alpha=0.5, label='Train Data')\n",
    "  # Creating a histogram of counts for df_test\n",
    "  plt.hist(df_test[col], bins=50, range=(0, range), alpha=0.5, label='Test Data')\n",
    "\n",
    "  plt.xlabel(f'Number of {name}s')\n",
    "  plt.ylabel('Frequency')\n",
    "  plt.title(f'Histogram of {name} Counts')\n",
    "  plt.legend()  # Adding a legend to distinguish between train and test data\n",
    "  plt.show()"
   ]
  },
  {
   "cell_type": "markdown",
   "metadata": {
    "id": "ftRz_BZWCgCe"
   },
   "source": [
    "The first statistic that interests us is the number of words in every sample."
   ]
  },
  {
   "cell_type": "code",
   "execution_count": 19,
   "metadata": {
    "id": "M0mlpxJWeGb8"
   },
   "outputs": [],
   "source": [
    "df_train['word_count'] = df_train['comment_text'].apply(lambda x: len(x.split()))\n",
    "df_test['word_count'] = df_test['comment_text'].apply(lambda x: len(x.split()))"
   ]
  },
  {
   "cell_type": "code",
   "execution_count": 20,
   "metadata": {
    "colab": {
     "base_uri": "https://localhost:8080/"
    },
    "executionInfo": {
     "elapsed": 56,
     "status": "ok",
     "timestamp": 1700482946336,
     "user": {
      "displayName": "Bohdan-Yarema Dekhtiar",
      "userId": "04520781845701333519"
     },
     "user_tz": -120
    },
    "id": "KltVUBatfOIg",
    "outputId": "fc5193b7-27ab-4389-c001-f27c586c7bb4"
   },
   "outputs": [
    {
     "name": "stdout",
     "output_type": "stream",
     "text": [
      "In df_train:\n",
      "100% of the rows have at most 1411 words.\n",
      "90% of the rows have at most 152 words.\n",
      "80% of the rows have at most 91 words.\n",
      "70% of the rows have at most 63 words.\n",
      "60% of the rows have at most 47 words.\n",
      "50% of the rows have at most 36 words.\n",
      "40% of the rows have at most 27 words.\n",
      "30% of the rows have at most 20 words.\n",
      "20% of the rows have at most 14 words.\n",
      "10% of the rows have at most 8 words.\n"
     ]
    }
   ],
   "source": [
    "print(\"In df_train:\")\n",
    "show_percentiles(df_train, 'word_count', 'word')"
   ]
  },
  {
   "cell_type": "code",
   "execution_count": 21,
   "metadata": {
    "colab": {
     "base_uri": "https://localhost:8080/"
    },
    "executionInfo": {
     "elapsed": 52,
     "status": "ok",
     "timestamp": 1700482946340,
     "user": {
      "displayName": "Bohdan-Yarema Dekhtiar",
      "userId": "04520781845701333519"
     },
     "user_tz": -120
    },
    "id": "dIkWjEwxd5tQ",
    "outputId": "d8b48ec4-0c0e-44f7-ad90-9e5233d83d25"
   },
   "outputs": [
    {
     "name": "stdout",
     "output_type": "stream",
     "text": [
      "In df_test:\n",
      "100% of the rows have at most 2321 words.\n",
      "90% of the rows have at most 143 words.\n",
      "80% of the rows have at most 86 words.\n",
      "70% of the rows have at most 60 words.\n",
      "60% of the rows have at most 45 words.\n",
      "50% of the rows have at most 34 words.\n",
      "40% of the rows have at most 25 words.\n",
      "30% of the rows have at most 18 words.\n",
      "20% of the rows have at most 12 words.\n",
      "10% of the rows have at most 7 words.\n"
     ]
    }
   ],
   "source": [
    "print(\"In df_test:\")\n",
    "show_percentiles(df_test, 'word_count', 'word')"
   ]
  },
  {
   "cell_type": "code",
   "execution_count": 22,
   "metadata": {
    "colab": {
     "base_uri": "https://localhost:8080/"
    },
    "executionInfo": {
     "elapsed": 1106,
     "status": "ok",
     "timestamp": 1700482947396,
     "user": {
      "displayName": "Bohdan-Yarema Dekhtiar",
      "userId": "04520781845701333519"
     },
     "user_tz": -120
    },
    "id": "eIasozL-d5tS",
    "outputId": "20cdb27e-3601-40ee-a5d9-61ca687c0c2d"
   },
   "outputs": [
    {
     "data": {
      "image/png": "[encoded data removed]",
      "text/plain": [
       "<Figure size 640x480 with 1 Axes>"
      ]
     },
     "metadata": {},
     "output_type": "display_data"
    }
   ],
   "source": [
    "plot_hist('word_count', 'Word', range=150)"
   ]
  },
  {
   "cell_type": "markdown",
   "metadata": {
    "id": "dnpksW4YCnao"
   },
   "source": [
    "Next we display the distribution of character counts in different samples."
   ]
  },
  {
   "cell_type": "code",
   "execution_count": 23,
   "metadata": {
    "id": "3G_2ImTCgoWL"
   },
   "outputs": [],
   "source": [
    "# Calculating text lengths and creating a new column\n",
    "df_train['char_count'] = df_train['comment_text'].apply(len)\n",
    "df_test['char_count'] = df_test['comment_text'].apply(len)"
   ]
  },
  {
   "cell_type": "code",
   "execution_count": 24,
   "metadata": {
    "colab": {
     "base_uri": "https://localhost:8080/"
    },
    "executionInfo": {
     "elapsed": 960,
     "status": "ok",
     "timestamp": 1700482948804,
     "user": {
      "displayName": "Bohdan-Yarema Dekhtiar",
      "userId": "04520781845701333519"
     },
     "user_tz": -120
    },
    "id": "sBseXtLIdTtt",
    "outputId": "a4da89d3-1f28-41f0-b750-92c4df5abd04"
   },
   "outputs": [
    {
     "data": {
      "image/png": "[encoded data removed]",
      "text/plain": [
       "<Figure size 640x480 with 1 Axes>"
      ]
     },
     "metadata": {},
     "output_type": "display_data"
    }
   ],
   "source": [
    "plot_hist('char_count', 'Char', range=1000)"
   ]
  },
  {
   "cell_type": "markdown",
   "metadata": {
    "id": "n7VjLZawCyFI"
   },
   "source": [
    "Finally, we display the distribution of capital letter counts in different samples."
   ]
  },
  {
   "cell_type": "code",
   "execution_count": 25,
   "metadata": {
    "id": "WfrOWM9rhOHF"
   },
   "outputs": [],
   "source": [
    "df_train['capital_letter_count'] = df_train['comment_text'].apply(lambda x: sum(1 for c in x if c.isupper()))\n",
    "df_test['capital_letter_count'] = df_test['comment_text'].apply(lambda x: sum(1 for c in x if c.isupper()))"
   ]
  },
  {
   "cell_type": "code",
   "execution_count": 26,
   "metadata": {
    "colab": {
     "base_uri": "https://localhost:8080/"
    },
    "executionInfo": {
     "elapsed": 651,
     "status": "ok",
     "timestamp": 1700482961585,
     "user": {
      "displayName": "Bohdan-Yarema Dekhtiar",
      "userId": "04520781845701333519"
     },
     "user_tz": -120
    },
    "id": "nabSE5iRi2F8",
    "outputId": "c5a70c16-660f-48a7-b383-9fde94f0f85a"
   },
   "outputs": [
    {
     "data": {
      "image/png": "[encoded data removed]",
      "text/plain": [
       "<Figure size 640x480 with 1 Axes>"
      ]
     },
     "metadata": {},
     "output_type": "display_data"
    }
   ],
   "source": [
    "plot_hist('capital_letter_count', 'Capital Letter', range=50)"
   ]
  },
  {
   "cell_type": "markdown",
   "metadata": {
    "id": "Z6ojYAo545Bp"
   },
   "source": [
    "# Text Cleaning"
   ]
  },
  {
   "cell_type": "code",
   "execution_count": 27,
   "metadata": {
    "id": "RD4oVqj4jd8a"
   },
   "outputs": [],
   "source": [
    "train_texts = [text for text in df_train['comment_text']]\n",
    "test_texts = [text for text in df_test['comment_text']]"
   ]
  },
  {
   "cell_type": "code",
   "execution_count": 28,
   "metadata": {
    "id": "pCU6ojlh5JQ2"
   },
   "outputs": [],
   "source": [
    "labels_toxic = [val for val in df_train['toxic']]\n",
    "labels_severe_toxic = [val for val in df_train['severe_toxic']]\n",
    "labels_obscene = [val for val in df_train['obscene']]\n",
    "labels_threat = [val for val in df_train['threat']]\n",
    "labels_insult = [val for val in df_train['insult']]\n",
    "labels_identity_hate = [val for val in df_train['identity_hate']]"
   ]
  },
  {
   "cell_type": "markdown",
   "metadata": {
    "id": "onGCV8mSxISN"
   },
   "source": [
    "Next we define a utility function to filter special symbols."
   ]
  },
  {
   "cell_type": "code",
   "execution_count": 29,
   "metadata": {
    "id": "AqF1SHyomZmq"
   },
   "outputs": [],
   "source": [
    "def remove_special_symbols(texts):\n",
    "    # Defining a regular expression pattern to match special symbols\n",
    "    special_symbol_pattern = r'[^A-Za-z\\s]'  # This pattern matches anything that is not a letter, digit, or whitespace\n",
    "\n",
    "    # Creating a list to store the filtered texts\n",
    "    filtered_texts = []\n",
    "\n",
    "    # Iterating through each text and removing special symbols\n",
    "    for text in texts:\n",
    "        filtered_text = re.sub(special_symbol_pattern, '', text)\n",
    "        filtered_texts.append(filtered_text)\n",
    "\n",
    "    return filtered_texts"
   ]
  },
  {
   "cell_type": "code",
   "execution_count": 30,
   "metadata": {
    "id": "A79NJeEVlXrr"
   },
   "outputs": [],
   "source": [
    "filtered_train_texts = remove_special_symbols(train_texts)\n",
    "filtered_test_texts = remove_special_symbols(test_texts)"
   ]
  },
  {
   "cell_type": "markdown",
   "metadata": {
    "id": "cucKkWkJxRcb"
   },
   "source": [
    "Here is an example sentence together with its clean version."
   ]
  },
  {
   "cell_type": "code",
   "execution_count": 31,
   "metadata": {
    "colab": {
     "base_uri": "https://localhost:8080/"
    },
    "executionInfo": {
     "elapsed": 40,
     "status": "ok",
     "timestamp": 1700482964221,
     "user": {
      "displayName": "Bohdan-Yarema Dekhtiar",
      "userId": "04520781845701333519"
     },
     "user_tz": -120
    },
    "id": "kgCssQeVmicD",
    "outputId": "c37ce980-a083-48be-c05d-e848125b68e1"
   },
   "outputs": [
    {
     "data": {
      "text/plain": [
       "('|blocked]] from editing Wikipedia.   |', 'blocked from editing Wikipedia   ')"
      ]
     },
     "execution_count": 31,
     "metadata": {},
     "output_type": "execute_result"
    }
   ],
   "source": [
    "test_texts[7], filtered_test_texts[7]"
   ]
  },
  {
   "cell_type": "markdown",
   "metadata": {
    "id": "LC3zu8fp5Es2"
   },
   "source": [
    "# Converting Text to Vectors"
   ]
  },
  {
   "cell_type": "markdown",
   "metadata": {},
   "source": [
    "As the last preprocessing step, we convert our texts to vectors using TfidfVectorizer."
   ]
  },
  {
   "cell_type": "code",
   "execution_count": 32,
   "metadata": {
    "id": "YpD0eaANmls5"
   },
   "outputs": [],
   "source": [
    "# Choosing max_features value\n",
    "max_features = 500\n",
    "\n",
    "# Initializing the TfidfVectorizer\n",
    "tfidf_vectorizer = TfidfVectorizer(max_features=max_features)\n",
    "\n",
    "# Fitting and transforming the training data\n",
    "X_train_tfidf = tfidf_vectorizer.fit_transform(filtered_train_texts)\n",
    "\n",
    "# Transforming the test data\n",
    "X_test_tfidf = tfidf_vectorizer.transform(filtered_test_texts)"
   ]
  },
  {
   "cell_type": "code",
   "execution_count": 33,
   "metadata": {
    "colab": {
     "base_uri": "https://localhost:8080/"
    },
    "executionInfo": {
     "elapsed": 646,
     "status": "ok",
     "timestamp": 1700482981173,
     "user": {
      "displayName": "Bohdan-Yarema Dekhtiar",
      "userId": "04520781845701333519"
     },
     "user_tz": -120
    },
    "id": "d8j4QolOwkfk",
    "outputId": "bd4ba119-1f13-4927-c173-86b4bff12e45"
   },
   "outputs": [
    {
     "data": {
      "text/plain": [
       "((159571, 500), (63978, 500))"
      ]
     },
     "execution_count": 33,
     "metadata": {},
     "output_type": "execute_result"
    }
   ],
   "source": [
    "X_train_tfidf.shape, X_test_tfidf.shape"
   ]
  },
  {
   "cell_type": "code",
   "execution_count": 34,
   "metadata": {
    "colab": {
     "base_uri": "https://localhost:8080/"
    },
    "executionInfo": {
     "elapsed": 29,
     "status": "ok",
     "timestamp": 1700482981173,
     "user": {
      "displayName": "Bohdan-Yarema Dekhtiar",
      "userId": "04520781845701333519"
     },
     "user_tz": -120
    },
    "id": "E5c3FVQY3Vzg",
    "outputId": "0a9bee05-c80e-4833-8d19-7835d63cf318"
   },
   "outputs": [
    {
     "data": {
      "text/plain": [
       "{'why': 471,\n",
       " 'the': 410,\n",
       " 'edits': 119,\n",
       " 'made': 236,\n",
       " 'under': 438,\n",
       " 'my': 261,\n",
       " 'were': 462,\n",
       " 'reverted': 345,\n",
       " 'they': 417,\n",
       " 'just': 210,\n",
       " 'on': 286,\n",
       " 'some': 373,\n",
       " 'after': 10,\n",
       " 'at': 37,\n",
       " 'new': 269,\n",
       " 'and': 22,\n",
       " 'please': 310,\n",
       " 'dont': 112,\n",
       " 'remove': 339,\n",
       " 'template': 401,\n",
       " 'from': 147,\n",
       " 'talk': 399,\n",
       " 'page': 300,\n",
       " 'since': 370,\n",
       " 'im': 188,\n",
       " 'now': 279,\n",
       " 'he': 171,\n",
       " 'this': 421,\n",
       " 'with': 477,\n",
       " 'thanks': 407,\n",
       " 'utc': 448,\n",
       " 'hey': 176,\n",
       " 'man': 241,\n",
       " 'really': 330,\n",
       " 'not': 273,\n",
       " 'trying': 436,\n",
       " 'to': 430,\n",
       " 'edit': 115,\n",
       " 'war': 454,\n",
       " 'its': 208,\n",
       " 'that': 408,\n",
       " 'is': 203,\n",
       " 'removing': 341,\n",
       " 'relevant': 337,\n",
       " 'information': 197,\n",
       " 'me': 247,\n",
       " 'through': 426,\n",
       " 'instead': 198,\n",
       " 'of': 281,\n",
       " 'seems': 359,\n",
       " 'care': 66,\n",
       " 'more': 256,\n",
       " 'about': 1,\n",
       " 'than': 405,\n",
       " 'info': 196,\n",
       " 'cant': 65,\n",
       " 'make': 238,\n",
       " 'any': 25,\n",
       " 'real': 329,\n",
       " 'if': 186,\n",
       " 'section': 356,\n",
       " 'should': 366,\n",
       " 'be': 44,\n",
       " 'later': 217,\n",
       " 'or': 291,\n",
       " 'think': 420,\n",
       " 'references': 335,\n",
       " 'may': 245,\n",
       " 'need': 265,\n",
       " 'so': 372,\n",
       " 'are': 30,\n",
       " 'all': 14,\n",
       " 'in': 192,\n",
       " 'same': 350,\n",
       " 'date': 95,\n",
       " 'etc': 127,\n",
       " 'can': 63,\n",
       " 'do': 107,\n",
       " 'else': 121,\n",
       " 'does': 108,\n",
       " 'first': 141,\n",
       " 'you': 495,\n",
       " 'have': 169,\n",
       " 'for': 143,\n",
       " 'style': 388,\n",
       " 'want': 453,\n",
       " 'it': 207,\n",
       " 'yourself': 498,\n",
       " 'let': 222,\n",
       " 'know': 213,\n",
       " 'there': 414,\n",
       " 'articles': 33,\n",
       " 'review': 346,\n",
       " 'until': 440,\n",
       " 'up': 441,\n",
       " 'listed': 228,\n",
       " 'what': 463,\n",
       " 'thats': 409,\n",
       " 'as': 34,\n",
       " 'well': 461,\n",
       " 'use': 443,\n",
       " 'before': 47,\n",
       " 'around': 31,\n",
       " 'work': 483,\n",
       " 'your': 496,\n",
       " 'vandalism': 449,\n",
       " 'article': 32,\n",
       " 'has': 167,\n",
       " 'been': 46,\n",
       " 'again': 11,\n",
       " 'will': 475,\n",
       " 'sorry': 376,\n",
       " 'word': 481,\n",
       " 'was': 456,\n",
       " 'anyway': 28,\n",
       " 'write': 486,\n",
       " 'anything': 27,\n",
       " 'would': 485,\n",
       " 'one': 288,\n",
       " 'school': 354,\n",
       " 'reference': 334,\n",
       " 'but': 59,\n",
       " 'which': 467,\n",
       " 'no': 272,\n",
       " 'must': 260,\n",
       " 'someone': 374,\n",
       " 'subject': 389,\n",
       " 'those': 422,\n",
       " 'fair': 136,\n",
       " 'notice': 278,\n",
       " 'image': 189,\n",
       " 'being': 48,\n",
       " 'used': 444,\n",
       " 'wikipedia': 473,\n",
       " 'also': 16,\n",
       " 'out': 297,\n",
       " 'specific': 379,\n",
       " 'using': 447,\n",
       " 'each': 114,\n",
       " 'go': 158,\n",
       " 'include': 193,\n",
       " 'other': 294,\n",
       " 'media': 250,\n",
       " 'consider': 81,\n",
       " 'pages': 301,\n",
       " 'too': 431,\n",
       " 'find': 140,\n",
       " 'list': 227,\n",
       " 'by': 60,\n",
       " 'contributions': 85,\n",
       " 'link': 225,\n",
       " 'very': 451,\n",
       " 'top': 432,\n",
       " 'when': 464,\n",
       " 'then': 413,\n",
       " 'note': 276,\n",
       " 'images': 190,\n",
       " 'such': 390,\n",
       " 'an': 21,\n",
       " 'deleted': 99,\n",
       " 'criteria': 92,\n",
       " 'speedy': 380,\n",
       " 'deletion': 100,\n",
       " 'questions': 325,\n",
       " 'ask': 35,\n",
       " 'them': 412,\n",
       " 'copyright': 86,\n",
       " 'thank': 406,\n",
       " 'source': 377,\n",
       " 'currently': 94,\n",
       " 'doesnt': 109,\n",
       " 'who': 469,\n",
       " 'created': 91,\n",
       " 'content': 83,\n",
       " 'did': 101,\n",
       " 'create': 90,\n",
       " 'website': 459,\n",
       " 'taken': 398,\n",
       " 'however': 183,\n",
       " 'different': 104,\n",
       " 'their': 411,\n",
       " 'adding': 7,\n",
       " 'add': 5,\n",
       " 'tag': 396,\n",
       " 'already': 15,\n",
       " 'picture': 308,\n",
       " 'believe': 49,\n",
       " 'see': 357,\n",
       " 'full': 150,\n",
       " 'following': 142,\n",
       " 'per': 304,\n",
       " 'discuss': 105,\n",
       " 'over': 298,\n",
       " 'group': 163,\n",
       " 'good': 160,\n",
       " 'his': 179,\n",
       " 'issue': 205,\n",
       " 'start': 381,\n",
       " 'attacks': 39,\n",
       " 'isnt': 204,\n",
       " 'going': 159,\n",
       " 'look': 232,\n",
       " 'like': 224,\n",
       " 'admin': 9,\n",
       " 'probably': 318,\n",
       " 'most': 257,\n",
       " 'notable': 275,\n",
       " 'only': 289,\n",
       " 'revert': 344,\n",
       " 'quite': 326,\n",
       " 'perhaps': 305,\n",
       " 'where': 465,\n",
       " 'we': 458,\n",
       " 'discussion': 106,\n",
       " 'topic': 433,\n",
       " 'matter': 244,\n",
       " 'oh': 283,\n",
       " 'above': 2,\n",
       " 'started': 382,\n",
       " 'her': 174,\n",
       " 'she': 364,\n",
       " 'between': 52,\n",
       " 'said': 349,\n",
       " 'years': 492,\n",
       " 'old': 285,\n",
       " 'th': 404,\n",
       " 'makes': 239,\n",
       " 'making': 240,\n",
       " 'own': 299,\n",
       " 'down': 113,\n",
       " 'yes': 493,\n",
       " 'how': 182,\n",
       " 'could': 88,\n",
       " 'stop': 387,\n",
       " 'year': 491,\n",
       " 'come': 76,\n",
       " 'back': 41,\n",
       " 'redirect': 333,\n",
       " 'point': 311,\n",
       " 'sense': 361,\n",
       " 'mean': 248,\n",
       " 'youre': 497,\n",
       " 'writing': 487,\n",
       " 'something': 375,\n",
       " 'regarding': 336,\n",
       " 'here': 175,\n",
       " 'even': 128,\n",
       " 'better': 51,\n",
       " 'id': 184,\n",
       " 'take': 397,\n",
       " 'these': 416,\n",
       " 'recent': 332,\n",
       " 'once': 287,\n",
       " 'read': 328,\n",
       " 'editing': 116,\n",
       " 'simply': 369,\n",
       " 'many': 242,\n",
       " 'bad': 42,\n",
       " 'further': 151,\n",
       " 'always': 18,\n",
       " 'true': 434,\n",
       " 'rather': 327,\n",
       " 'far': 137,\n",
       " 'site': 371,\n",
       " 'get': 154,\n",
       " 'facts': 135,\n",
       " 'off': 282,\n",
       " 'because': 45,\n",
       " 'still': 386,\n",
       " 'number': 280,\n",
       " 'understand': 439,\n",
       " 'sure': 395,\n",
       " 'wrong': 489,\n",
       " 'changes': 70,\n",
       " 'support': 394,\n",
       " 'view': 452,\n",
       " 'anyone': 26,\n",
       " 'written': 488,\n",
       " 'question': 324,\n",
       " 'current': 93,\n",
       " 'version': 450,\n",
       " 'either': 120,\n",
       " 'others': 295,\n",
       " 'hope': 181,\n",
       " 'less': 221,\n",
       " 'several': 363,\n",
       " 'included': 194,\n",
       " 'theres': 415,\n",
       " 'sources': 378,\n",
       " 'youve': 499,\n",
       " 'done': 111,\n",
       " 'history': 180,\n",
       " 'case': 67,\n",
       " 'against': 12,\n",
       " 'tell': 400,\n",
       " 'myself': 262,\n",
       " 'am': 19,\n",
       " 'continue': 84,\n",
       " 'ok': 284,\n",
       " 'bit': 54,\n",
       " 'example': 132,\n",
       " 'life': 223,\n",
       " 'us': 442,\n",
       " 'post': 316,\n",
       " 'block': 55,\n",
       " 'thing': 418,\n",
       " 'much': 259,\n",
       " 'able': 0,\n",
       " 'had': 165,\n",
       " 'text': 403,\n",
       " 'ive': 209,\n",
       " 'time': 427,\n",
       " 'interest': 199,\n",
       " 'four': 145,\n",
       " 'interested': 200,\n",
       " 'given': 157,\n",
       " 'while': 468,\n",
       " 'got': 161,\n",
       " 'things': 419,\n",
       " 'left': 220,\n",
       " 'never': 268,\n",
       " 'position': 314,\n",
       " 'says': 353,\n",
       " 'part': 302,\n",
       " 'claim': 72,\n",
       " 'call': 61,\n",
       " 'end': 123,\n",
       " 'day': 96,\n",
       " 'clearly': 75,\n",
       " 'found': 144,\n",
       " 'our': 296,\n",
       " 'based': 43,\n",
       " 'states': 385,\n",
       " 'including': 195,\n",
       " 'actually': 4,\n",
       " 'comment': 77,\n",
       " 'added': 6,\n",
       " 'hi': 177,\n",
       " 'notability': 274,\n",
       " 'person': 306,\n",
       " 'people': 303,\n",
       " 'guidelines': 164,\n",
       " 'leave': 219,\n",
       " 'check': 71,\n",
       " 'feel': 138,\n",
       " 'free': 146,\n",
       " 'sentence': 362,\n",
       " 'welcome': 460,\n",
       " 'without': 479,\n",
       " 'gay': 152,\n",
       " 'two': 437,\n",
       " 'words': 482,\n",
       " 'last': 216,\n",
       " 'warning': 455,\n",
       " 'fucking': 149,\n",
       " 'wont': 480,\n",
       " 'wish': 476,\n",
       " 'fuck': 148,\n",
       " 'ass': 36,\n",
       " 'having': 170,\n",
       " 'neutral': 267,\n",
       " 'into': 201,\n",
       " 'research': 343,\n",
       " 'possible': 315,\n",
       " 'agree': 13,\n",
       " 'though': 423,\n",
       " 'appropriate': 29,\n",
       " 'change': 68,\n",
       " 'claims': 73,\n",
       " 'seen': 360,\n",
       " 'reason': 331,\n",
       " 'suggest': 392,\n",
       " 'might': 254,\n",
       " 'links': 226,\n",
       " 'ever': 129,\n",
       " 'mentioned': 252,\n",
       " 'consensus': 80,\n",
       " 'way': 457,\n",
       " 'show': 367,\n",
       " 'seem': 358,\n",
       " 'right': 347,\n",
       " 'put': 323,\n",
       " 'course': 89,\n",
       " 'both': 58,\n",
       " 'try': 435,\n",
       " 'wrote': 490,\n",
       " 'thought': 424,\n",
       " 'fact': 134,\n",
       " 'statement': 384,\n",
       " 'times': 428,\n",
       " 'considered': 82,\n",
       " 'although': 17,\n",
       " 'say': 351,\n",
       " 'message': 253,\n",
       " 'problem': 319,\n",
       " 'provide': 321,\n",
       " 'general': 153,\n",
       " 'public': 322,\n",
       " 'ill': 187,\n",
       " 'reliable': 338,\n",
       " 'help': 173,\n",
       " 'shit': 365,\n",
       " 'die': 103,\n",
       " 'delete': 98,\n",
       " 'second': 355,\n",
       " 'didnt': 102,\n",
       " 'long': 231,\n",
       " 'best': 50,\n",
       " 'personal': 307,\n",
       " 'attack': 38,\n",
       " 'another': 23,\n",
       " 'name': 263,\n",
       " 'happy': 166,\n",
       " 'him': 178,\n",
       " 'saying': 352,\n",
       " 'within': 478,\n",
       " 'maybe': 246,\n",
       " 'little': 229,\n",
       " 'three': 425,\n",
       " 'every': 130,\n",
       " 'keep': 211,\n",
       " 'whether': 466,\n",
       " 'needs': 266,\n",
       " 'called': 62,\n",
       " 'lot': 234,\n",
       " 'project': 320,\n",
       " 'comments': 78,\n",
       " 'original': 293,\n",
       " 'issues': 206,\n",
       " 'state': 383,\n",
       " 'term': 402,\n",
       " 'looking': 233,\n",
       " 'nothing': 277,\n",
       " 'give': 156,\n",
       " 'american': 20,\n",
       " 'encyclopedia': 122,\n",
       " 'wikipedias': 474,\n",
       " 'explain': 133,\n",
       " 'policy': 313,\n",
       " 'summary': 393,\n",
       " 'address': 8,\n",
       " 'answer': 24,\n",
       " 'mention': 251,\n",
       " 'great': 162,\n",
       " 'evidence': 131,\n",
       " 'known': 214,\n",
       " 'next': 270,\n",
       " 'account': 3,\n",
       " 'changed': 69,\n",
       " 'few': 139,\n",
       " 'removed': 340,\n",
       " 'english': 124,\n",
       " 'language': 215,\n",
       " 'especially': 126,\n",
       " 'getting': 155,\n",
       " 'clear': 74,\n",
       " 'community': 79,\n",
       " 'place': 309,\n",
       " 'names': 264,\n",
       " 'wiki': 472,\n",
       " 'important': 191,\n",
       " 'away': 40,\n",
       " 'kind': 212,\n",
       " 'doing': 110,\n",
       " 'request': 342,\n",
       " 'users': 446,\n",
       " 'editor': 117,\n",
       " 'yet': 494,\n",
       " 'enough': 125,\n",
       " 'world': 484,\n",
       " 'whole': 470,\n",
       " 'hello': 172,\n",
       " 'material': 243,\n",
       " 'editors': 118,\n",
       " 'lol': 230,\n",
       " 'pov': 317,\n",
       " 'policies': 312,\n",
       " 'user': 445,\n",
       " 'opinion': 290,\n",
       " 'idea': 185,\n",
       " 'main': 237,\n",
       " 'cannot': 64,\n",
       " 'title': 429,\n",
       " 'move': 258,\n",
       " 'least': 218,\n",
       " 'sign': 368,\n",
       " 'love': 235,\n",
       " 'correct': 87,\n",
       " 'hate': 168,\n",
       " 'blocked': 56,\n",
       " 'mind': 255,\n",
       " 'rules': 348,\n",
       " 'book': 57,\n",
       " 'ip': 202,\n",
       " 'big': 53,\n",
       " 'order': 292,\n",
       " 'days': 97,\n",
       " 'means': 249,\n",
       " 'suck': 391,\n",
       " 'nigger': 271}"
      ]
     },
     "execution_count": 34,
     "metadata": {},
     "output_type": "execute_result"
    }
   ],
   "source": [
    "tfidf_vectorizer.vocabulary_"
   ]
  },
  {
   "cell_type": "code",
   "execution_count": null,
   "metadata": {},
   "outputs": [],
   "source": [
    "tfidf_vectorizer.stop_words_"
   ]
  },
  {
   "cell_type": "code",
   "execution_count": 35,
   "metadata": {
    "id": "iRLZlc3CyKDt"
   },
   "outputs": [],
   "source": [
    "X_train_dense = X_train_tfidf.toarray()\n",
    "X_test_dense = X_test_tfidf.toarray()"
   ]
  },
  {
   "cell_type": "code",
   "execution_count": null,
   "metadata": {
    "id": "UejaM2l_OAuk"
   },
   "outputs": [],
   "source": []
  }
 ],
 "metadata": {
  "colab": {
   "authorship_tag": "ABX9TyP4rUgunSNbbajTNmshySb8",
   "collapsed_sections": [
    "njZEce6xXu_a",
    "m1X0CNWmYHNk",
    "XETSnbFIs7PS"
   ],
   "provenance": []
  },
  "kernelspec": {
   "display_name": "Python 3 (ipykernel)",
   "language": "python",
   "name": "python3"
  },
  "language_info": {
   "codemirror_mode": {
    "name": "ipython",
    "version": 3
   },
   "file_extension": ".py",
   "mimetype": "text/x-python",
   "name": "python",
   "nbconvert_exporter": "python",
   "pygments_lexer": "ipython3",
   "version": "3.10.0"
  }
 },
 "nbformat": 4,
 "nbformat_minor": 4
}
